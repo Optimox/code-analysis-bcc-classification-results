{
 "cells": [
  {
   "cell_type": "markdown",
   "id": "b5d39714-0dd6-4aef-a0a9-da543286ff30",
   "metadata": {},
   "source": [
    "# Import python libraries"
   ]
  },
  {
   "cell_type": "code",
   "execution_count": null,
   "id": "36196b0d-d162-4b24-9a20-e99238a33fa0",
   "metadata": {},
   "outputs": [],
   "source": [
    "import plotly.io as pio\n",
    "pio.renderers.default = 'iframe'"
   ]
  },
  {
   "cell_type": "code",
   "execution_count": null,
   "id": "fc2df770-ec1d-4537-baee-a1934f6135b3",
   "metadata": {},
   "outputs": [],
   "source": [
    "import pandas as pd\n",
    "import confidenceinterval\n",
    "import numpy as np\n",
    "from scipy.stats import ttest_rel\n",
    "import scipy.stats as stats\n",
    "\n",
    "\n",
    "from sklearn.metrics import (roc_auc_score,\n",
    "                             accuracy_score,\n",
    "                             classification_report,\n",
    "                             f1_score,\n",
    "                             confusion_matrix)\n",
    "\n",
    "import plotly.express as px\n",
    "from ast import literal_eval\n",
    "\n",
    "# add path to access src code\n",
    "import sys\n",
    "sys.path.append(\"../src/\")\n",
    "\n",
    "from CI_utils import get_sens_spec, sensitivity_and_specificity_with_confidence_intervals\n",
    "from plot_utils import generate_confidence_plot, add_inset"
   ]
  },
  {
   "cell_type": "markdown",
   "id": "2fe28c5c-97dc-4907-8348-4040ee89a1a6",
   "metadata": {},
   "source": [
    "# Load data with answers"
   ]
  },
  {
   "cell_type": "code",
   "execution_count": null,
   "id": "cd3f7b6b-f4e4-4bf9-9a31-00252dca5358",
   "metadata": {},
   "outputs": [],
   "source": [
    "df_answers = pd.read_csv(\"../data/BCC_Quiz_answers_anon.csv\")\n",
    "df_ai_scores = pd.read_csv(\"../data/ai_video_scores_anon.csv\")\n",
    "comprehensive_diag = pd.read_csv(\"../data/simple_diags_CT.csv\", sep=\";\")\n",
    "\n",
    "df_answers = pd.merge(df_answers, comprehensive_diag, left_on=\"case_uuid\", right_on=\"case_id\", how=\"inner\")\n",
    "\n",
    "# set scores to list of float\n",
    "df_answers[\"all_scores\"] = df_answers.all_scores.apply(lambda x : literal_eval(x))\n",
    "df_ai_scores[\"all_scores\"] = df_ai_scores.all_scores.apply(lambda x : literal_eval(x))"
   ]
  },
  {
   "cell_type": "markdown",
   "id": "4d4ec3a1-d76f-4efb-80f1-9e951d0df268",
   "metadata": {},
   "source": [
    "# Compute two-sided t-tests for confidence"
   ]
  },
  {
   "cell_type": "code",
   "execution_count": null,
   "id": "16d3ad69-77ff-41d3-8b57-b8d00cead456",
   "metadata": {},
   "outputs": [],
   "source": [
    "# Overal improvement of confidence accross all answers between LC-OCT and AI-assisted LC-OCT\n",
    "\n",
    "conf_with_ai = df_answers[df_answers.ai_assistance_present].sort_values(by=[\"user\", \"case_uuid\"]).lcoct_phase_trust_score.values\n",
    "conf_no_ai = df_answers[~df_answers.ai_assistance_present].sort_values(by=[\"user\", \"case_uuid\"]).lcoct_phase_trust_score.values\n",
    "\n",
    "t_statistic, p_value = stats.ttest_rel(conf_with_ai, conf_no_ai, alternative='two-sided')\n",
    "\n",
    "print(\"conf with at mean\", conf_with_ai.mean())\n",
    "print(\"lcoct conf mean\", conf_no_ai.mean())\n",
    "print(\"T-statistic:\", t_statistic)\n",
    "print(\"P-value:\", p_value)"
   ]
  },
  {
   "cell_type": "code",
   "execution_count": null,
   "id": "9b8f8f17-30bc-4dc9-a70a-be8c870f4416",
   "metadata": {},
   "outputs": [],
   "source": [
    "# Overal improvement of confidence accross all answers between LC-OCT and dermoscopy\n",
    "\n",
    "conf_dermo = df_answers[~df_answers.ai_assistance_present].sort_values(by=[\"user\", \"case_uuid\"]).clinical_phase_trust_score.values\n",
    "conf_lcoct = df_answers[~df_answers.ai_assistance_present].sort_values(by=[\"user\", \"case_uuid\"]).lcoct_phase_trust_score.values\n",
    "\n",
    "t_statistic, p_value = stats.ttest_rel(conf_lcoct, conf_dermo, alternative='two-sided')\n",
    "\n",
    "print(\"Is confidence up with lc-oct?\")\n",
    "print(\"dermo conf mean\", conf_dermo.mean())\n",
    "print(\"lcoct conf mean\", conf_lcoct.mean())\n",
    "print(\"T-statistic:\", t_statistic)\n",
    "print(\"P-value:\", p_value)"
   ]
  },
  {
   "cell_type": "markdown",
   "id": "472811fd-790f-490c-8883-30af540785fd",
   "metadata": {},
   "source": [
    "# Compute two-sided t-tests for time to diagnostic"
   ]
  },
  {
   "cell_type": "code",
   "execution_count": null,
   "id": "a9dc7642-5405-48f7-858c-827504d48dc1",
   "metadata": {},
   "outputs": [],
   "source": [
    "# Time comparison between LC-OCT stage and AI-assisted LC-OCT stage\n",
    "\n",
    "time_with_ai = df_answers[df_answers.ai_assistance_present].sort_values(by=[\"user\", \"case_uuid\"]).lcoct_phase_elapsed_time.values\n",
    "time_no_ai = df_answers[~df_answers.ai_assistance_present].sort_values(by=[\"user\", \"case_uuid\"]).lcoct_phase_elapsed_time.values\n",
    "\n",
    "t_statistic, p_value = stats.ttest_rel(time_with_ai, time_no_ai, alternative='two-sided')\n",
    "print(\"Is slower with AI?\")\n",
    "print(\"AI time mean\", time_with_ai.mean())\n",
    "print(\"Normal time mean\", time_no_ai.mean())\n",
    "print(\"T-statistic:\", t_statistic)\n",
    "print(\"P-value:\", p_value)"
   ]
  },
  {
   "cell_type": "code",
   "execution_count": null,
   "id": "43731f89-0eee-4daf-accf-55e9b955f2b4",
   "metadata": {},
   "outputs": [],
   "source": [
    "# Time comparison between LC-OCT stage and clinical + dermoscopy stage\n",
    "\n",
    "time_with_lcoct = df_answers[~df_answers.ai_assistance_present].sort_values(by=[\"user\", \"case_uuid\"]).lcoct_phase_elapsed_time.values\n",
    "time_clinical = df_answers[~df_answers.ai_assistance_present].sort_values(by=[\"user\", \"case_uuid\"]).clinical_phase_elapsed_time.values\n",
    "\n",
    "t_statistic, p_value = stats.ttest_rel(time_clinical, time_with_lcoct)\n",
    "print(\"Is slower with clinical data?\")\n",
    "print(\"time_with_lcoct\", time_with_lcoct.mean())\n",
    "print(\"time_clinical\", time_clinical.mean())\n",
    "print(\"T-statistic:\", t_statistic)\n",
    "print(\"P-value:\", p_value)"
   ]
  },
  {
   "cell_type": "markdown",
   "id": "84462e0d-f1e2-4f57-b512-d765ae36530e",
   "metadata": {},
   "source": [
    "# Compute AUC score of AI alone"
   ]
  },
  {
   "cell_type": "code",
   "execution_count": null,
   "id": "5a40f3d6-177d-48c3-9fa8-45da6a414b27",
   "metadata": {},
   "outputs": [],
   "source": [
    "roc_auc_score(y_true=df_ai_scores.is_diagnostic_bcc, y_score=df_ai_scores.max_moving_avg_24)"
   ]
  },
  {
   "cell_type": "code",
   "execution_count": null,
   "id": "497daa3d-c8ee-4d16-b157-dbbb62ac9855",
   "metadata": {},
   "outputs": [],
   "source": [
    "check_cols = [\"clinical_phase_elapsed_time\", \"clinical_phase_trust_score\", \"lcoct_phase_trust_score\", \"lcoct_phase_elapsed_time\"]\n",
    "df_answers.groupby(\"ai_assistance_present\")[check_cols].mean()"
   ]
  },
  {
   "cell_type": "code",
   "execution_count": null,
   "id": "849ab489-44b7-41d7-8efe-df9a807093a7",
   "metadata": {},
   "outputs": [],
   "source": [
    "\n",
    "for (cat, is_ai_help), case_df in df_answers.groupby([\"categorie\", \"ai_assistance_present\"]):\n",
    "    num_cases = len(case_df) // 43\n",
    "    print(\"-------\")\n",
    "    print(\"category\", cat, \"with ai assitance?\", is_ai_help, f'({num_cases} cases)' )\n",
    "\n",
    "    patho_score, patho_inter = confidenceinterval.accuracy_score(y_true=case_df.is_diagnostic_bcc, y_pred=case_df.lcoct_phase_answer)\n",
    "    print(\"accuracy_score\", patho_score, \"CI\", patho_inter)"
   ]
  },
  {
   "cell_type": "code",
   "execution_count": null,
   "id": "89fb490e-bbd7-48fd-977e-f078820b49ff",
   "metadata": {},
   "outputs": [],
   "source": [
    "# Create individuals scores from question level answers\n",
    "df_results = []\n",
    "for user, user_df in df_answers.groupby(\"user\"):\n",
    "    user_df = user_df.reset_index(drop=True)\n",
    "    user_df[\"quiz_nb\"] = \"quiz 1\"\n",
    "    # separate quiz 1 and quiz 2\n",
    "    user_df.loc[user_df.index>=200, \"quiz_nb\"] = \"quiz 2\"\n",
    "    for ai_help in [True, False]:\n",
    "        res = {}\n",
    "        aux_df = user_df[user_df.ai_assistance_present==ai_help].reset_index(drop=True)\n",
    "        score = roc_auc_score(y_true=aux_df.is_diagnostic_bcc, y_score=aux_df.lcoct_phase_answer)\n",
    "        all_scores = get_sens_spec(aux_df)\n",
    "        f_score = f1_score(y_true=aux_df.is_diagnostic_bcc, y_pred=aux_df.lcoct_phase_answer)\n",
    "        \n",
    "        res = {\"user\": user, \"user_type\": aux_df.user_type.values[0], \"f1_score\": f_score, \"auc\": score, \"ai_help\": ai_help, \"clinical_phase\": False, **all_scores}\n",
    "\n",
    "        df_results.append(res)\n",
    "    for quiz in [\"quiz 1\", \"quiz 2\"]:\n",
    "        aux_df = user_df[user_df.quiz_nb==quiz].reset_index(drop=True)\n",
    "        acc_clinical = get_sens_spec(aux_df, \"clinical_phase_answer\")\n",
    "        f_score = f1_score(y_true=aux_df.is_diagnostic_bcc,\n",
    "                            y_pred=aux_df.clinical_phase_answer)\n",
    "        res = {\"user\": user, \"user_type\": aux_df.user_type.values[0], \"f1_score\": f_score, \"auc\": score, \"ai_help\": False, \"clinical_phase\": quiz, **acc_clinical}\n",
    "        df_results.append(res)\n",
    "df_results = pd.DataFrame(df_results)"
   ]
  },
  {
   "cell_type": "code",
   "execution_count": null,
   "id": "c6b834e5-b90a-4e95-961e-65959521529c",
   "metadata": {},
   "outputs": [],
   "source": [
    "df_results.head(3)"
   ]
  },
  {
   "cell_type": "code",
   "execution_count": null,
   "id": "ac11fad7-3e64-44f6-a84f-1d88a720c569",
   "metadata": {},
   "outputs": [],
   "source": [
    "def generate_naming(clinical_phase, ai_help):\n",
    "    \"\"\"\n",
    "    Auxiliary function to generate correct naming of phase and AI assistance\n",
    "    \"\"\"\n",
    "    res = \"\"\n",
    "    if clinical_phase:\n",
    "        res += \"dermoscopic & clinical \" + clinical_phase \n",
    "    else:\n",
    "        res += \"LC-OCT\"\n",
    "        \n",
    "        if ai_help:\n",
    "            res += \" with ai\"\n",
    "        else:\n",
    "            res += \" no ai\"\n",
    "            \n",
    "    return res\n",
    "df_results[\"categories\"] = df_results[[\"clinical_phase\", \"ai_help\"]].apply(lambda x: generate_naming(x[0], x[1]), axis=1)"
   ]
  },
  {
   "cell_type": "markdown",
   "id": "2adf9c9e-70de-4812-9b5c-4e93da627ae2",
   "metadata": {},
   "source": [
    "# Sensitivity specificity accross all users and expertise level for clinical and dermoscopy"
   ]
  },
  {
   "cell_type": "code",
   "execution_count": null,
   "id": "5e472b11-dc97-4676-af63-9d58b27617a7",
   "metadata": {},
   "outputs": [],
   "source": [
    "\n",
    "print(\"CLINICAL & DERMO scores\")\n",
    "for expertise_lvl in df_answers.user_type.unique():\n",
    "    print(expertise_lvl)\n",
    "    df_clinical_results = df_answers[(df_answers.user_type==expertise_lvl)].reset_index(drop=True)\n",
    "    tn, fp, fn, tp = confusion_matrix(y_true=df_clinical_results.is_diagnostic_bcc.values.astype(float),\n",
    "                             y_pred=df_clinical_results.clinical_phase_answer.values.astype(float)).ravel()\n",
    "\n",
    "    sensitivity_point_estimate, specificity_point_estimate, \\\n",
    "                sensitivity_confidence_interval, specificity_confidence_interval \\\n",
    "                = sensitivity_and_specificity_with_confidence_intervals(TP=tp, FP=fp, FN=fn, TN=tn, alpha=0.95)\n",
    "    print(f\"Average sensitivity for clinical : {sensitivity_point_estimate:.3f} ({sensitivity_confidence_interval[0]:.3f} - {sensitivity_confidence_interval[1]:.3f}, 95%)\")\n",
    "    print(f\"Average specificity for clinical : {specificity_point_estimate:.3f} ({specificity_confidence_interval[0]:.3f} - {specificity_confidence_interval[1]:.3f}, 95%)\")\n",
    "    \n",
    "    accuracy_score, acc_ci_intervals = confidenceinterval.accuracy_score(y_true=df_clinical_results.is_diagnostic_bcc.values.astype(float),\n",
    "                                                                         y_pred=df_clinical_results.clinical_phase_answer.values.astype(float),\n",
    "                                                                         confidence_level=0.95)\n",
    "\n",
    "    print(f\"Average accuracy for clinical : {accuracy_score:.3f} ({acc_ci_intervals[0]:.3f} - {acc_ci_intervals[1]:.3f}, 95%)\")\n",
    "\n",
    "    print(\"----\")\n",
    "    \n",
    "print(\"ALL\")\n",
    "df_clinical_results = df_answers.reset_index(drop=True)\n",
    "tn, fp, fn, tp = confusion_matrix(y_true=df_clinical_results.is_diagnostic_bcc.values.astype(float),\n",
    "                         y_pred=df_clinical_results.clinical_phase_answer.values.astype(float)).ravel()\n",
    "\n",
    "sensitivity_point_estimate, specificity_point_estimate, \\\n",
    "            sensitivity_confidence_interval, specificity_confidence_interval \\\n",
    "            = sensitivity_and_specificity_with_confidence_intervals(TP=tp, FP=fp, FN=fn, TN=tn, alpha=0.95)\n",
    "print(f\"Average sensitivity for clinical : {sensitivity_point_estimate:.3f} ({sensitivity_confidence_interval[0]:.3f} - {sensitivity_confidence_interval[1]:.3f}, 95%)\")\n",
    "print(f\"Average specificity for clinical : {specificity_point_estimate:.3f} ({specificity_confidence_interval[0]:.3f} - {specificity_confidence_interval[1]:.3f}, 95%)\")\n",
    "\n",
    "accuracy_score, acc_ci_intervals = confidenceinterval.accuracy_score(y_true=df_clinical_results.is_diagnostic_bcc.values.astype(float),\n",
    "                                                                         y_pred=df_clinical_results.clinical_phase_answer.values.astype(float),\n",
    "                                                                         confidence_level=0.95)\n",
    "\n",
    "print(f\"Average accuracy for clinical : {accuracy_score:.3f} ({acc_ci_intervals[0]:.3f} - {acc_ci_intervals[1]:.3f}, 95%)\")"
   ]
  },
  {
   "cell_type": "markdown",
   "id": "c4d16fb4-0b59-4bf7-abab-809ba6d8de5e",
   "metadata": {},
   "source": [
    "# Sensitivity specificity accross all users and expertise level for LC-OCT answers"
   ]
  },
  {
   "cell_type": "code",
   "execution_count": null,
   "id": "21b33bd5-f4d1-4901-a65b-95d1764d00aa",
   "metadata": {},
   "outputs": [],
   "source": [
    "\n",
    "print(\"LC-OCT scores\")\n",
    "for expertise_lvl in df_answers.user_type.unique():\n",
    "    print(expertise_lvl)\n",
    "    df_lcoct_results = df_answers[(df_answers.user_type==expertise_lvl) & (~df_answers.ai_assistance_present)].reset_index(drop=True)\n",
    "    tn, fp, fn, tp = confusion_matrix(y_true=df_lcoct_results.is_diagnostic_bcc.values.astype(float),\n",
    "                             y_pred=df_lcoct_results.lcoct_phase_answer.values.astype(float)).ravel()\n",
    "\n",
    "    sensitivity_point_estimate, specificity_point_estimate, \\\n",
    "                sensitivity_confidence_interval, specificity_confidence_interval \\\n",
    "                = sensitivity_and_specificity_with_confidence_intervals(TP=tp, FP=fp, FN=fn, TN=tn, alpha=0.95)\n",
    "    print(f\"Average sensitivity for lc-oct : {sensitivity_point_estimate:.3f} ({sensitivity_confidence_interval[0]:.3f} - {sensitivity_confidence_interval[1]:.3f}, 95%)\")\n",
    "    print(f\"Average specificity for lc-oct : {specificity_point_estimate:.3f} ({specificity_confidence_interval[0]:.3f} - {specificity_confidence_interval[1]:.3f}, 95%)\")\n",
    "    \n",
    "    accuracy_score, acc_ci_intervals = confidenceinterval.accuracy_score(y_true=df_lcoct_results.is_diagnostic_bcc.values.astype(float),\n",
    "                                                                         y_pred=df_lcoct_results.lcoct_phase_answer.values.astype(float),\n",
    "                                                                         confidence_level=0.95)\n",
    "\n",
    "    print(f\"Average accuracy for lc-oct : {accuracy_score:.3f} ({acc_ci_intervals[0]:.3f} - {acc_ci_intervals[1]:.3f}, 95%)\")\n",
    "\n",
    "    print(\"----\")\n",
    "    \n",
    "print(\"ALL\")\n",
    "df_lcoct_results = df_answers[~df_answers.ai_assistance_present].reset_index(drop=True)\n",
    "tn, fp, fn, tp = confusion_matrix(y_true=df_lcoct_results.is_diagnostic_bcc.values.astype(float),\n",
    "                         y_pred=df_lcoct_results.lcoct_phase_answer.values.astype(float)).ravel()\n",
    "\n",
    "sensitivity_point_estimate, specificity_point_estimate, \\\n",
    "            sensitivity_confidence_interval, specificity_confidence_interval \\\n",
    "            = sensitivity_and_specificity_with_confidence_intervals(TP=tp, FP=fp, FN=fn, TN=tn, alpha=0.95)\n",
    "print(f\"Average sensitivity for lc-oct : {sensitivity_point_estimate:.3f} ({sensitivity_confidence_interval[0]:.3f} - {sensitivity_confidence_interval[1]:.3f}, 95%)\")\n",
    "print(f\"Average specificity for lc-oct : {specificity_point_estimate:.3f} ({specificity_confidence_interval[0]:.3f} - {specificity_confidence_interval[1]:.3f}, 95%)\")\n",
    "\n",
    "accuracy_score, acc_ci_intervals = confidenceinterval.accuracy_score(y_true=df_lcoct_results.is_diagnostic_bcc.values.astype(float),\n",
    "                                                                         y_pred=df_lcoct_results.lcoct_phase_answer.values.astype(float),\n",
    "                                                                         confidence_level=0.95)\n",
    "\n",
    "print(f\"Average accuracy for lc-oct : {accuracy_score:.3f} ({acc_ci_intervals[0]:.3f} - {acc_ci_intervals[1]:.3f}, 95%)\")"
   ]
  },
  {
   "cell_type": "markdown",
   "id": "d089312e-c853-4b8f-99d3-4445ba1db6a0",
   "metadata": {},
   "source": [
    "# Sensitivity specificity accross all users and expertise level for AI assisted LC-OCT answers"
   ]
  },
  {
   "cell_type": "code",
   "execution_count": null,
   "id": "33ee8ec4-76d9-4f54-ae65-441702840a94",
   "metadata": {},
   "outputs": [],
   "source": [
    "\n",
    "print(\"LC-OCT scores\")\n",
    "for expertise_lvl in df_answers.user_type.unique():\n",
    "    print(expertise_lvl)\n",
    "    df_lcoct_results = df_answers[(df_answers.user_type==expertise_lvl) & (df_answers.ai_assistance_present)].reset_index(drop=True)\n",
    "    tn, fp, fn, tp = confusion_matrix(y_true=df_lcoct_results.is_diagnostic_bcc.values.astype(float),\n",
    "                             y_pred=df_lcoct_results.lcoct_phase_answer.values.astype(float)).ravel()\n",
    "\n",
    "    sensitivity_point_estimate, specificity_point_estimate, \\\n",
    "                sensitivity_confidence_interval, specificity_confidence_interval \\\n",
    "                = sensitivity_and_specificity_with_confidence_intervals(TP=tp, FP=fp, FN=fn, TN=tn, alpha=0.95)\n",
    "    print(f\"Average sensitivity for AI-assisted lc-oct : {sensitivity_point_estimate:.3f} ({sensitivity_confidence_interval[0]:.3f} - {sensitivity_confidence_interval[1]:.3f}, 95%)\")\n",
    "    print(f\"Average specificity for AI-assisted lc-oct : {specificity_point_estimate:.3f} ({specificity_confidence_interval[0]:.3f} - {specificity_confidence_interval[1]:.3f}, 95%)\")\n",
    "    \n",
    "    accuracy_score, acc_ci_intervals = confidenceinterval.accuracy_score(y_true=df_lcoct_results.is_diagnostic_bcc.values.astype(float),\n",
    "                                                                         y_pred=df_lcoct_results.lcoct_phase_answer.values.astype(float),\n",
    "                                                                         confidence_level=0.95)\n",
    "\n",
    "    print(f\"Average accuracy for AI-assisted lc-oct : {accuracy_score:.3f} ({acc_ci_intervals[0]:.3f} - {acc_ci_intervals[1]:.3f}, 95%)\")\n",
    "\n",
    "    print(\"----\")\n",
    "    \n",
    "print(\"ALL\")\n",
    "df_lcoct_results = df_answers[df_answers.ai_assistance_present].reset_index(drop=True)\n",
    "tn, fp, fn, tp = confusion_matrix(y_true=df_lcoct_results.is_diagnostic_bcc.values.astype(float),\n",
    "                         y_pred=df_lcoct_results.lcoct_phase_answer.values.astype(float)).ravel()\n",
    "\n",
    "sensitivity_point_estimate, specificity_point_estimate, \\\n",
    "            sensitivity_confidence_interval, specificity_confidence_interval \\\n",
    "            = sensitivity_and_specificity_with_confidence_intervals(TP=tp, FP=fp, FN=fn, TN=tn, alpha=0.95)\n",
    "print(f\"Average sensitivity for AI-assisted lc-oct : {sensitivity_point_estimate:.3f} ({sensitivity_confidence_interval[0]:.3f} - {sensitivity_confidence_interval[1]:.3f}, 95%)\")\n",
    "print(f\"Average specificity for AI-assisted lc-oct : {specificity_point_estimate:.3f} ({specificity_confidence_interval[0]:.3f} - {specificity_confidence_interval[1]:.3f}, 95%)\")\n",
    "\n",
    "accuracy_score, acc_ci_intervals = confidenceinterval.accuracy_score(y_true=df_lcoct_results.is_diagnostic_bcc.values.astype(float),\n",
    "                                                                         y_pred=df_lcoct_results.lcoct_phase_answer.values.astype(float),\n",
    "                                                                         confidence_level=0.95)\n",
    "\n",
    "print(f\"Average accuracy for AI-assisted lc-oct : {accuracy_score:.3f} ({acc_ci_intervals[0]:.3f} - {acc_ci_intervals[1]:.3f}, 95%)\")"
   ]
  },
  {
   "cell_type": "markdown",
   "id": "c86e7ee5-b127-4d7d-8676-ce2264168ea3",
   "metadata": {},
   "source": [
    "# Compute intra operator variability\n",
    "\n",
    "Compute per doctor and per question the average \"clinical phase answer\":\n",
    "- if score is 0: the doctor always answered no BCC\n",
    "- if score is 1: the doctor always answered BCC\n",
    "- if score is 0.5: the doctor always switched answers between quiz 1 and quiz 2"
   ]
  },
  {
   "cell_type": "code",
   "execution_count": null,
   "id": "4f4fe540-da71-47eb-aae7-12a3a4819a97",
   "metadata": {},
   "outputs": [],
   "source": [
    "intra_operator = []\n",
    "for (user_name, case_uuid), df_user_type in df_answers.groupby([\"user\", \"case_uuid\"]):\n",
    "    intra_operator.append({\"user\": user_name, \"case_uuid\": case_uuid,\n",
    "                           \"variability\": df_user_type.clinical_phase_answer.mean(),\n",
    "                          \"expertise\": df_user_type.user_type.iloc[0]})\n",
    "df_intra_operator = pd.DataFrame(intra_operator)\n",
    "\n",
    "df_intra_operator[\"variability\"] = df_intra_operator[\"variability\"].apply(lambda x : x == 0.5)\n",
    "\n",
    "def mode_agg(series):\n",
    "    return series.mode().iloc[0] if not series.mode().empty else None\n",
    "\n",
    "df_intra_var = df_intra_operator.groupby(\"user\").agg({\"variability\": \"mean\", \"expertise\": mode_agg}).reset_index()\n",
    "\n",
    "fig = px.violin(df_intra_var, y=\"variability\", box=True, color=\"expertise\",\n",
    "                           points=\"all\",\n",
    "          hover_data=[\"user\"],\n",
    "                     category_orders={\"expertise\": ['novices', 'intermediates',\n",
    "                                                           'experts']})\n",
    "\n",
    "fig.show()\n",
    "print(f\"Global average intra-operator variability: {df_intra_operator.variability.mean():.3f}\")"
   ]
  },
  {
   "cell_type": "markdown",
   "id": "66b9b22c-5f07-4e74-8a29-8a9ea2a2aa8d",
   "metadata": {},
   "source": [
    "# Compute individual doctors auc score after scaling answers by the trust score"
   ]
  },
  {
   "cell_type": "code",
   "execution_count": null,
   "id": "1a711a06-197a-434a-8717-09aaf0250fd7",
   "metadata": {},
   "outputs": [],
   "source": [
    "all_indiv_aux_scores = []\n",
    "users = []\n",
    "user_types = []\n",
    "# scores without AI\n",
    "for user, df_user_answers in df_answers[df_answers.ai_assistance_present==False].groupby(\"user\"):\n",
    "    df_user_answers = df_user_answers.reset_index(drop=True)\n",
    "    df_user_answers[\"indiv_probs\"] = df_user_answers[\"lcoct_phase_answer\"].apply(lambda x : 1 if x else -1) *df_user_answers[\"lcoct_phase_trust_score\"]\n",
    "    df_user_answers[\"indiv_probs\"] /= 20\n",
    "    df_user_answers[\"indiv_probs\"] += 0.5\n",
    "    auc_score, (lower_conf, high_conf) = confidenceinterval.roc_auc_score(y_true=df_user_answers.is_diagnostic_bcc.astype(float),\n",
    "                                                                          y_pred=df_user_answers.indiv_probs)\n",
    "    all_indiv_aux_scores.append(auc_score)\n",
    "    users.append(user)\n",
    "    user_types.append(df_user_answers[\"user_type\"][0])\n",
    "    # print(\"doctor id:\", user, \"- auc and CI\", auc_score, (lower_conf, high_conf))\n",
    "\n",
    "# scores with AI\n",
    "for user, df_user_answers in df_answers[df_answers.ai_assistance_present==True].groupby(\"user\"):\n",
    "    df_user_answers = df_user_answers.reset_index(drop=True)\n",
    "    df_user_answers[\"indiv_probs\"] = df_user_answers[\"lcoct_phase_answer\"].apply(lambda x : 1 if x else -1) *df_user_answers[\"lcoct_phase_trust_score\"]\n",
    "    df_user_answers[\"indiv_probs\"] /= 20\n",
    "    df_user_answers[\"indiv_probs\"] += 0.5\n",
    "    auc_score, (lower_conf, high_conf) = confidenceinterval.roc_auc_score(y_true=df_user_answers.is_diagnostic_bcc.astype(float),\n",
    "                                                                          y_pred=df_user_answers.indiv_probs)\n",
    "    all_indiv_aux_scores.append(auc_score)\n",
    "    users.append(user)\n",
    "    user_types.append(df_user_answers[\"user_type\"][0]+\" with AI assistance\")\n",
    "    # print(\"doctor id:\", user, \"- auc and CI\", auc_score, (lower_conf, high_conf))\n",
    "# add AI standalone\n",
    "\n",
    "ai_auc, _ = confidenceinterval.roc_auc_score(y_true=df_ai_scores.is_diagnostic_bcc,\n",
    "                                             y_pred=df_ai_scores.max_moving_avg_24)\n",
    "all_indiv_aux_scores.append(ai_auc)\n",
    "users.append(\"AI standalone\")\n",
    "user_types.append(\"AI standalone\")\n",
    "\n",
    "df_indiv_auc = pd.DataFrame()\n",
    "\n",
    "df_indiv_auc[\"user\"] = users\n",
    "df_indiv_auc[\"auc\"] = all_indiv_aux_scores\n",
    "df_indiv_auc[\"expertise\"] = user_types\n",
    "\n",
    "df_indiv_auc = df_indiv_auc.sort_values(by=\"auc\").reset_index(drop=True)\n",
    "df_indiv_auc[\"num doctors\"] = range(1, len(users)+1)\n",
    "df_indiv_auc[\"num doctors\"] = df_indiv_auc[\"num doctors\"].astype(str)\n",
    "df_indiv_auc.loc[df_indiv_auc.user==\"AI standalone\", \"num doctors\"] = \"AI\"\n",
    "\n",
    "\n",
    "df_indiv_auc[\"expertise\"] = df_indiv_auc[\"expertise\"].apply(lambda x: \"<br> with\".join(x.split(\"with\")))\n",
    "df_indiv_auc[\"simple expertise\"] = df_indiv_auc[\"expertise\"].apply(lambda x : x.split(\" <br>\")[0])\n",
    "\n",
    "df_indiv_auc[\"AI_assistance\"] = df_indiv_auc.expertise.apply(lambda x: \"with AI assistance\" in x)\n"
   ]
  },
  {
   "cell_type": "code",
   "execution_count": null,
   "id": "c2179206-7865-4676-9a35-61c5762fd0ac",
   "metadata": {},
   "outputs": [],
   "source": [
    "\n",
    "standalone_ai_auc = df_indiv_auc[df_indiv_auc.user==\"AI standalone\"].auc.values[0]\n",
    "fig = px.box(df_indiv_auc[df_indiv_auc.user!=\"AI standalone\"],\n",
    "             x=\"expertise\",\n",
    "             y=\"auc\",\n",
    "             color=\"simple expertise\",  # or \"expertise\" or \"simple expertise\"\n",
    "             points=\"all\",\n",
    "             category_orders={\"expertise\": ['novices',\n",
    "                                            \"intermediates\",\n",
    "                                            \"experts\",\n",
    "#                                             'AI standalone',\n",
    "                                            'novices <br> with AI assistance',\n",
    "                                            'intermediates <br> with AI assistance',\n",
    "                                            'experts <br> with AI assistance']})\n",
    "\n",
    "# Add a horizontal line\n",
    "fig.add_hline(y=standalone_ai_auc, line_dash=\"dash\", line_color=\"orange\", annotation_text=\"\")\n",
    "fig.add_vline(x=2.5, line_dash=\"dash\", line_color=\"grey\", annotation_text=\"\", line={\"width\":1})\n",
    "# Add an invisible scatter trace for the legend\n",
    "fig.add_scatter(x=[None], y=[None], mode=\"lines\",\n",
    "                line=dict(color=\"orange\", dash=\"dash\"),\n",
    "                name=f\"AI standalone ({standalone_ai_auc:.3f})\")\n",
    "fig.update_xaxes(tickangle=45)\n",
    "# fig.update_layout(margin=dict(l=40, r=40, t=40, b=100))\n",
    "\n",
    "\n",
    "fig.show()"
   ]
  },
  {
   "cell_type": "markdown",
   "id": "76973ed5-031a-4499-a744-6918d218fb73",
   "metadata": {},
   "source": [
    "# Compute voting AUC and accuracy scores per level of expertise with LC-OCT"
   ]
  },
  {
   "cell_type": "code",
   "execution_count": null,
   "id": "28b38beb-8ab2-4ef3-a327-a96ed2539e96",
   "metadata": {},
   "outputs": [],
   "source": [
    "print(\"NO AI voting scores\")\n",
    "print(\"ALL\")\n",
    "df_voting = df_answers[df_answers.ai_assistance_present==False].groupby(\"case_uuid\")[[\"is_diagnostic_bcc\", \"lcoct_phase_answer\"]].mean().reset_index()\n",
    "\n",
    "print(\"AUC\")\n",
    "print(confidenceinterval.roc_auc_score(y_true=df_voting.is_diagnostic_bcc, y_pred=df_voting.lcoct_phase_answer,))\n",
    "\n",
    "print(\"experts\")\n",
    "df_voting_experts = df_answers[(df_answers.ai_assistance_present==False) & (df_answers.user_type==\"experts\")].groupby(\"case_uuid\")[[\"is_diagnostic_bcc\", \"lcoct_phase_answer\"]].mean().reset_index()\n",
    "print(\"AUC\")\n",
    "print(confidenceinterval.roc_auc_score(y_true=df_voting_experts.is_diagnostic_bcc, y_pred=df_voting_experts.lcoct_phase_answer))\n",
    "\n",
    "\n",
    "print(\"intermediates\")\n",
    "df_voting_intermediates = df_answers[(df_answers.ai_assistance_present==False) & (df_answers.user_type==\"intermediates\")].groupby(\"case_uuid\")[[\"is_diagnostic_bcc\", \"lcoct_phase_answer\"]].mean().reset_index()\n",
    "print(\"AUC\")\n",
    "print(confidenceinterval.roc_auc_score(y_true=df_voting_intermediates.is_diagnostic_bcc, y_pred=df_voting_intermediates.lcoct_phase_answer))\n",
    "\n",
    "print(\"novices\")\n",
    "df_voting_novices = df_answers[(df_answers.ai_assistance_present==False) & (df_answers.user_type==\"novices\")].groupby(\"case_uuid\")[[\"is_diagnostic_bcc\", \"lcoct_phase_answer\"]].mean().reset_index()\n",
    "print(\"AUC\")\n",
    "print(confidenceinterval.roc_auc_score(y_true=df_voting_novices.is_diagnostic_bcc, y_pred=df_voting_novices.lcoct_phase_answer))\n"
   ]
  },
  {
   "cell_type": "markdown",
   "id": "e6c9da3a-ea2d-40ad-af39-f2019ef5b626",
   "metadata": {},
   "source": [
    "# Compute two sided t-test for sensitivity, specificity and accuracy per level of expertise between LC-OCT and AI assisted LC-OCT"
   ]
  },
  {
   "cell_type": "code",
   "execution_count": null,
   "id": "619f1f49-b62e-4edd-83ba-6f69c0e3722a",
   "metadata": {},
   "outputs": [],
   "source": [
    "for user_type_idx, user_type in enumerate(df_results.user_type.unique()):\n",
    "    df_res_ai = df_results[(df_results[\"clinical_phase\"]==False) & (df_results[\"ai_help\"]==True) & (df_results[\"user_type\"]==user_type)].reset_index(drop=True)\n",
    "    df_res_no_ai = df_results[(df_results[\"clinical_phase\"]==False)& (df_results[\"ai_help\"]==False)  & (df_results[\"user_type\"]==user_type)].reset_index(drop=True)\n",
    "    df_res_ai = df_res_ai.sort_values(by=\"user\").reset_index(drop=True)\n",
    "    df_res_no_ai = df_res_no_ai.sort_values(by=\"user\").reset_index(drop=True)\n",
    "    print(\"------------\")\n",
    "    print(user_type, \":\", len(df_res_ai))\n",
    "    print('sensitivity')\n",
    "    print(\"no ai:\", df_res_no_ai.sensitivity.mean())\n",
    "    print(\"ai:\", df_res_ai.sensitivity.mean())\n",
    "    print(ttest_rel(df_res_ai.sensitivity,\n",
    "                    df_res_no_ai.sensitivity,\n",
    "                    axis=0,\n",
    "                    nan_policy='raise',\n",
    "                    alternative='two-sided'))\n",
    "    print('specificity')\n",
    "    print(ttest_rel(df_res_ai.specificity,\n",
    "                    df_res_no_ai.specificity,\n",
    "                    axis=0,\n",
    "                    nan_policy='raise',\n",
    "                    alternative='two-sided'))\n",
    "    print('accuracy')\n",
    "    print(\"no ai:\", df_res_no_ai.accuracy.mean())\n",
    "    print(\"ai:\", df_res_ai.accuracy.mean())\n",
    "    \n",
    "    print(ttest_rel(df_res_ai.accuracy,\n",
    "                    df_res_no_ai.accuracy,\n",
    "                    axis=0,\n",
    "                    nan_policy='raise',\n",
    "                    alternative='two-sided'))\n",
    "    print('f1 score')\n",
    "    print(ttest_rel(df_res_ai.f1_score,\n",
    "                    df_res_no_ai.f1_score,\n",
    "                    axis=0,\n",
    "                    nan_policy='raise',\n",
    "                    alternative='two-sided'))"
   ]
  },
  {
   "cell_type": "markdown",
   "id": "9dc0413c-e063-40f0-9965-8ef9559cbdcd",
   "metadata": {},
   "source": [
    "# Compute two sided t-test for sensitivity, specificity and accuracy between LC-OCT and AI assisted LC-OCT"
   ]
  },
  {
   "cell_type": "code",
   "execution_count": null,
   "id": "dc16e374-4695-4787-81f3-c14115d3e7c6",
   "metadata": {},
   "outputs": [],
   "source": [
    "print(\"------------\")\n",
    "print(\"OVERALL\")\n",
    "print('sensitivity')\n",
    "\n",
    "df_res_ai = df_results[(df_results[\"clinical_phase\"]==False) & (df_results[\"ai_help\"]==True)].reset_index(drop=True)\n",
    "df_res_no_ai = df_results[(df_results[\"clinical_phase\"]==False)& (df_results[\"ai_help\"]==False)  ].reset_index(drop=True)\n",
    "df_res_ai = df_res_ai.sort_values(by=\"user\").reset_index(drop=True)\n",
    "df_res_no_ai = df_res_no_ai.sort_values(by=\"user\").reset_index(drop=True)\n",
    "    \n",
    "print(ttest_rel(df_res_ai.sensitivity,\n",
    "                df_res_no_ai.sensitivity,\n",
    "                axis=0,\n",
    "                nan_policy='raise',\n",
    "                alternative='two-sided'))\n",
    "print('specificity')\n",
    "print(ttest_rel(df_res_ai.specificity,\n",
    "                df_res_no_ai.specificity,\n",
    "                axis=0,\n",
    "                nan_policy='raise',\n",
    "                alternative='two-sided'))\n",
    "print('accuracy')\n",
    "print(\"no ai:\", df_res_no_ai.accuracy.mean())\n",
    "print(\"ai:\", df_res_ai.accuracy.mean())\n",
    "print(ttest_rel(df_res_ai.accuracy,\n",
    "                df_res_no_ai.accuracy,\n",
    "                axis=0,\n",
    "                nan_policy='raise',\n",
    "                alternative='two-sided'))\n",
    "print('f1 score')\n",
    "print(ttest_rel(df_res_ai.f1_score,\n",
    "                df_res_no_ai.f1_score,\n",
    "                axis=0,\n",
    "                nan_policy='raise',\n",
    "                alternative='two-sided'))"
   ]
  },
  {
   "cell_type": "markdown",
   "id": "2135e3fd-76a2-4dd4-ad61-92b666e5ea69",
   "metadata": {},
   "source": [
    "# Generate main plot of the paper"
   ]
  },
  {
   "cell_type": "code",
   "execution_count": null,
   "id": "002dae44-fe57-4da5-829b-93cd75eb141b",
   "metadata": {},
   "outputs": [],
   "source": [
    "gp_df = df_answers[(df_answers.ai_assistance_present)].groupby(\"user_type\")\n",
    "sens_spec_df_ai_2 = gp_df.apply(lambda df : pd.Series(get_sens_spec(df))).reset_index()\n",
    "sens_spec_df_ai_2[\"ai_assistance_present\"] = True\n",
    "\n",
    "gp_df = df_answers[~df_answers.ai_assistance_present].groupby(\"user_type\")\n",
    "sens_spec_df_no_ai_2 = gp_df.apply(lambda df : pd.Series(get_sens_spec(df))).reset_index()\n",
    "sens_spec_df_no_ai_2[\"ai_assistance_present\"] = False"
   ]
  },
  {
   "cell_type": "code",
   "execution_count": null,
   "id": "b40adfc8-34b0-4f6b-9618-9a3295e0623f",
   "metadata": {},
   "outputs": [],
   "source": [
    "df_results[\"1-specificity\"] = 1 - df_results[\"specificity\"]"
   ]
  },
  {
   "cell_type": "code",
   "execution_count": null,
   "id": "a6f49070-b2da-498d-bdb1-b284026856ed",
   "metadata": {},
   "outputs": [],
   "source": [
    "fig = generate_confidence_plot(df_results, df_ai_scores, df_answers, sens_spec_df_ai_2, sens_spec_df_no_ai_2, alpha=0.95, size=1000, showlegend=True)\n",
    "fig_2 = generate_confidence_plot(df_results, df_ai_scores, df_answers, sens_spec_df_ai_2, sens_spec_df_no_ai_2, alpha=0.95, size=None, showlegend=False, zoom_range=[-0.4, 1.02])\n",
    "final_fig = add_inset(fig, fig_2)\n",
    "final_fig.show()"
   ]
  },
  {
   "cell_type": "code",
   "execution_count": null,
   "id": "803b2ff1-b369-479e-acc6-4167d8866610",
   "metadata": {},
   "outputs": [],
   "source": []
  }
 ],
 "metadata": {
  "kernelspec": {
   "display_name": "Python 3 (ipykernel)",
   "language": "python",
   "name": "python3"
  },
  "language_info": {
   "codemirror_mode": {
    "name": "ipython",
    "version": 3
   },
   "file_extension": ".py",
   "mimetype": "text/x-python",
   "name": "python",
   "nbconvert_exporter": "python",
   "pygments_lexer": "ipython3",
   "version": "3.10.14"
  }
 },
 "nbformat": 4,
 "nbformat_minor": 5
}
